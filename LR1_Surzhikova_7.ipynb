{
 "cells": [
  {
   "cell_type": "markdown",
   "metadata": {
    "id": "bri_pAriNFqN"
   },
   "source": [
    "**Цель работы:**\n",
    "\n",
    "Осуществить предварительную обработку данных csv-файла, выявить и устранить проблемы в этих данных."
   ]
  },
  {
   "cell_type": "markdown",
   "metadata": {},
   "source": [
    "**Задание**\n",
    "1. Загрузить датасет с помощью библиотеки ```pandas```.\n",
    "2. Вывести первые 20 строк с помощью метода ```head```.\n",
    "3. Выполнить обзор данных - описать столбцы и вашу предметную область.\n",
    "4. С помощью метода ```info``` оценить данные (есть ли пропуски, сколько всего строк, какие типы данных у столбцов).\n",
    "5. Применить ```describe```. С помощью ```describe``` оценить числовые столбцы (если они есть).\n",
    "6. Вывести на экран названия столбцов с помощью ```df.columns```. Выявить проблемы с названиями, если они есть.\n",
    "   При необходимости переименовать столбцы. Если проблемы не обнаружены также дать пояснения.\n",
    "7. Проверить данные на наличие пропусков и устранить их, если они есть (пропуски\n",
    "   необходимо либо удалить, либо заменить каким-то значением). Не забудьте пояснения!\n",
    "8. Проверьте данные на наличие явных и неявных дубликатов. Удалите дубликаты, если они есть.\n",
    "10. Проверьте типы данных, при необходимости измените типы данных, чтобы они соответствовали действительности.\n",
    "11. Осуществите группировки и создайте сводные таблицы в соответствии с вариантом.\n",
    "12. Сделайте выводе по работе.\n"
   ]
  },
  {
   "cell_type": "markdown",
   "metadata": {
    "id": "r_e-GeJmgZ8l"
   },
   "source": [
    "# Загрузка набора данных"
   ]
  },
  {
   "cell_type": "markdown",
   "metadata": {
    "id": "eeq9ZAbSguQS"
   },
   "source": [
    "### Описание предметной области"
   ]
  },
  {
   "cell_type": "markdown",
   "metadata": {},
   "source": [
    "    \n",
    "**Предметная область**\\\n",
    "Данные отражают информацию о заёмщиках и их кредитах: возраст, доход, тип жилья, стаж работы, цель кредита, сумму займа, процентную ставку, длину кредитной истории и факт дефолта (наличие или отсутствие просрочки по выплатам). Анализ таких данных позволяет банкам и финансовым организациям оценивать надёжность клиентов, выявлять факторы, влияющие на риск невозврата кредита, и разрабатывать стратегии управления рисками."
   ]
  },
  {
   "cell_type": "markdown",
   "metadata": {
    "id": "XHbH8zNIg0Ib"
   },
   "source": [
    "**Вариант № 7**\n",
    "\n",
    "Набор данных: ```credit_risk.csv```\n",
    "\n",
    "Атрибуты:\\\n",
    "```Id``` — идентификатор\\\n",
    "```Age``` — возраст\\\n",
    "```Income```— доход\\\n",
    "```Home``` — статус домовладения (Собственный, Ипотека, Аренда)\\\n",
    "```Emp_length``` — стаж работы в годах\\\n",
    "```Intent``` — цель кредита\\\n",
    "```Amount``` — сумма кредита по заявке\\\n",
    "```Rate``` — процентная ставка\\\n",
    "```Status``` — статус одобрения кредита\\\n",
    "```Percent_income``` — сумма кредита в процентах от дохода\\\n",
    "```Default``` — не допустил ли заявитель ранее дефолта по кредиту (да, нет)\\\n",
    "```Cred_length``` — длина кредитной истории заявителя\\"
   ]
  },
  {
   "cell_type": "markdown",
   "metadata": {
    "id": "Lwin9ia7hT1i"
   },
   "source": [
    "### 1.Чтение файла (набора данных)"
   ]
  },
  {
   "cell_type": "markdown",
   "metadata": {},
   "source": [
    "Импорт библиотек, чтение файла с помощью ```pandas```"
   ]
  },
  {
   "cell_type": "code",
   "execution_count": 41,
   "metadata": {
    "id": "a5dYQO5YhOYa"
   },
   "outputs": [],
   "source": [
    "import pandas as pd\n",
    "df = pd.read_csv(\"credit_risk.csv\")"
   ]
  },
  {
   "cell_type": "markdown",
   "metadata": {
    "id": "p82p53SvhjLN"
   },
   "source": [
    "### 2. Обзор данных"
   ]
  },
  {
   "cell_type": "markdown",
   "metadata": {
    "id": "eAYzXaLrh-qh"
   },
   "source": [
    "**2.1 Вывод первых 20 строк с помощью метода ```head```.**"
   ]
  },
  {
   "cell_type": "code",
   "execution_count": 42,
   "metadata": {
    "id": "7yMo3VZ_hotx",
    "scrolled": true
   },
   "outputs": [
    {
     "data": {
      "text/html": [
       "<div>\n",
       "<style scoped>\n",
       "    .dataframe tbody tr th:only-of-type {\n",
       "        vertical-align: middle;\n",
       "    }\n",
       "\n",
       "    .dataframe tbody tr th {\n",
       "        vertical-align: top;\n",
       "    }\n",
       "\n",
       "    .dataframe thead th {\n",
       "        text-align: right;\n",
       "    }\n",
       "</style>\n",
       "<table border=\"1\" class=\"dataframe\">\n",
       "  <thead>\n",
       "    <tr style=\"text-align: right;\">\n",
       "      <th></th>\n",
       "      <th>Id</th>\n",
       "      <th>Age</th>\n",
       "      <th>Income</th>\n",
       "      <th>Home</th>\n",
       "      <th>Emp_length</th>\n",
       "      <th>Intent</th>\n",
       "      <th>Amount</th>\n",
       "      <th>Rate</th>\n",
       "      <th>Status</th>\n",
       "      <th>Percent_income</th>\n",
       "      <th>Default</th>\n",
       "      <th>Cred_length</th>\n",
       "    </tr>\n",
       "  </thead>\n",
       "  <tbody>\n",
       "    <tr>\n",
       "      <th>0</th>\n",
       "      <td>0</td>\n",
       "      <td>22.0</td>\n",
       "      <td>59000</td>\n",
       "      <td>RENT</td>\n",
       "      <td>123.0</td>\n",
       "      <td>PERSONAL</td>\n",
       "      <td>35000</td>\n",
       "      <td>16.02</td>\n",
       "      <td>1</td>\n",
       "      <td>0.59</td>\n",
       "      <td>Y</td>\n",
       "      <td>3</td>\n",
       "    </tr>\n",
       "    <tr>\n",
       "      <th>1</th>\n",
       "      <td>1</td>\n",
       "      <td>21.0</td>\n",
       "      <td>9600</td>\n",
       "      <td>OWN</td>\n",
       "      <td>5.0</td>\n",
       "      <td>EDUCATION</td>\n",
       "      <td>1000</td>\n",
       "      <td>11.14</td>\n",
       "      <td>0</td>\n",
       "      <td>0.10</td>\n",
       "      <td>N</td>\n",
       "      <td>2</td>\n",
       "    </tr>\n",
       "    <tr>\n",
       "      <th>2</th>\n",
       "      <td>2</td>\n",
       "      <td>25.0</td>\n",
       "      <td>9600</td>\n",
       "      <td>MORTGAGE</td>\n",
       "      <td>1.0</td>\n",
       "      <td>MEDICAL</td>\n",
       "      <td>5500</td>\n",
       "      <td>12.87</td>\n",
       "      <td>1</td>\n",
       "      <td>0.57</td>\n",
       "      <td>N</td>\n",
       "      <td>3</td>\n",
       "    </tr>\n",
       "    <tr>\n",
       "      <th>3</th>\n",
       "      <td>3</td>\n",
       "      <td>23.0</td>\n",
       "      <td>65500</td>\n",
       "      <td>RENT</td>\n",
       "      <td>4.0</td>\n",
       "      <td>MEDICAL</td>\n",
       "      <td>35000</td>\n",
       "      <td>15.23</td>\n",
       "      <td>1</td>\n",
       "      <td>0.53</td>\n",
       "      <td>N</td>\n",
       "      <td>2</td>\n",
       "    </tr>\n",
       "    <tr>\n",
       "      <th>4</th>\n",
       "      <td>4</td>\n",
       "      <td>24.0</td>\n",
       "      <td>54400</td>\n",
       "      <td>RENT</td>\n",
       "      <td>8.0</td>\n",
       "      <td>MEDICAL</td>\n",
       "      <td>35000</td>\n",
       "      <td>14.27</td>\n",
       "      <td>1</td>\n",
       "      <td>0.55</td>\n",
       "      <td>Y</td>\n",
       "      <td>4</td>\n",
       "    </tr>\n",
       "    <tr>\n",
       "      <th>5</th>\n",
       "      <td>5</td>\n",
       "      <td>21.0</td>\n",
       "      <td>9900</td>\n",
       "      <td>OWN</td>\n",
       "      <td>2.0</td>\n",
       "      <td>VENTURE</td>\n",
       "      <td>2500</td>\n",
       "      <td>7.14</td>\n",
       "      <td>1</td>\n",
       "      <td>0.25</td>\n",
       "      <td>N</td>\n",
       "      <td>2</td>\n",
       "    </tr>\n",
       "    <tr>\n",
       "      <th>6</th>\n",
       "      <td>6</td>\n",
       "      <td>26.0</td>\n",
       "      <td>77100</td>\n",
       "      <td>RENET</td>\n",
       "      <td>8.0</td>\n",
       "      <td>EDUCATION</td>\n",
       "      <td>35000</td>\n",
       "      <td>12.42</td>\n",
       "      <td>1</td>\n",
       "      <td>0.45</td>\n",
       "      <td>N</td>\n",
       "      <td>3</td>\n",
       "    </tr>\n",
       "    <tr>\n",
       "      <th>7</th>\n",
       "      <td>7</td>\n",
       "      <td>24.0</td>\n",
       "      <td>78956</td>\n",
       "      <td>RENT</td>\n",
       "      <td>5.0</td>\n",
       "      <td>MEDICAL</td>\n",
       "      <td>35000</td>\n",
       "      <td>11.11</td>\n",
       "      <td>1</td>\n",
       "      <td>0.44</td>\n",
       "      <td>N</td>\n",
       "      <td>4</td>\n",
       "    </tr>\n",
       "    <tr>\n",
       "      <th>8</th>\n",
       "      <td>8</td>\n",
       "      <td>24.0</td>\n",
       "      <td>83000</td>\n",
       "      <td>RENT</td>\n",
       "      <td>8.0</td>\n",
       "      <td>PERSONAL</td>\n",
       "      <td>35000</td>\n",
       "      <td>8.90</td>\n",
       "      <td>1</td>\n",
       "      <td>0.42</td>\n",
       "      <td>N</td>\n",
       "      <td>2</td>\n",
       "    </tr>\n",
       "    <tr>\n",
       "      <th>9</th>\n",
       "      <td>9</td>\n",
       "      <td>21.0</td>\n",
       "      <td>10000</td>\n",
       "      <td>OWN</td>\n",
       "      <td>6.0</td>\n",
       "      <td>VENTURE</td>\n",
       "      <td>1600</td>\n",
       "      <td>14.74</td>\n",
       "      <td>1</td>\n",
       "      <td>0.16</td>\n",
       "      <td>N</td>\n",
       "      <td>3</td>\n",
       "    </tr>\n",
       "    <tr>\n",
       "      <th>10</th>\n",
       "      <td>10</td>\n",
       "      <td>22.0</td>\n",
       "      <td>85000</td>\n",
       "      <td>RENT</td>\n",
       "      <td>6.0</td>\n",
       "      <td>VENTURE</td>\n",
       "      <td>35000</td>\n",
       "      <td>10.37</td>\n",
       "      <td>1</td>\n",
       "      <td>0.41</td>\n",
       "      <td>N</td>\n",
       "      <td>4</td>\n",
       "    </tr>\n",
       "    <tr>\n",
       "      <th>11</th>\n",
       "      <td>11</td>\n",
       "      <td>21.0</td>\n",
       "      <td>10000</td>\n",
       "      <td>OWN</td>\n",
       "      <td>2.0</td>\n",
       "      <td>HOMEIMPROVEMENT</td>\n",
       "      <td>4500</td>\n",
       "      <td>8.63</td>\n",
       "      <td>1</td>\n",
       "      <td>0.45</td>\n",
       "      <td>N</td>\n",
       "      <td>2</td>\n",
       "    </tr>\n",
       "    <tr>\n",
       "      <th>12</th>\n",
       "      <td>12</td>\n",
       "      <td>23.0</td>\n",
       "      <td>95000</td>\n",
       "      <td>RENT</td>\n",
       "      <td>2.0</td>\n",
       "      <td>VENTURE</td>\n",
       "      <td>35000</td>\n",
       "      <td>7.90</td>\n",
       "      <td>1</td>\n",
       "      <td>0.37</td>\n",
       "      <td>N</td>\n",
       "      <td>2</td>\n",
       "    </tr>\n",
       "    <tr>\n",
       "      <th>13</th>\n",
       "      <td>13</td>\n",
       "      <td>26.0</td>\n",
       "      <td>108160</td>\n",
       "      <td>RENT</td>\n",
       "      <td>4.0</td>\n",
       "      <td>EDUCATION</td>\n",
       "      <td>35000</td>\n",
       "      <td>18.39</td>\n",
       "      <td>1</td>\n",
       "      <td>0.32</td>\n",
       "      <td>N</td>\n",
       "      <td>4</td>\n",
       "    </tr>\n",
       "    <tr>\n",
       "      <th>14</th>\n",
       "      <td>14</td>\n",
       "      <td>23.0</td>\n",
       "      <td>115000</td>\n",
       "      <td>RENT</td>\n",
       "      <td>2.0</td>\n",
       "      <td>EDUCATION</td>\n",
       "      <td>35000</td>\n",
       "      <td>7.90</td>\n",
       "      <td>0</td>\n",
       "      <td>0.30</td>\n",
       "      <td>N</td>\n",
       "      <td>4</td>\n",
       "    </tr>\n",
       "    <tr>\n",
       "      <th>15</th>\n",
       "      <td>15</td>\n",
       "      <td>23.0</td>\n",
       "      <td>500000</td>\n",
       "      <td>MORTGAGE</td>\n",
       "      <td>7.0</td>\n",
       "      <td>DEBTCONSOLIDATION</td>\n",
       "      <td>30000</td>\n",
       "      <td>10.65</td>\n",
       "      <td>0</td>\n",
       "      <td>0.06</td>\n",
       "      <td>N</td>\n",
       "      <td>3</td>\n",
       "    </tr>\n",
       "    <tr>\n",
       "      <th>16</th>\n",
       "      <td>16</td>\n",
       "      <td>23.0</td>\n",
       "      <td>120000</td>\n",
       "      <td>RENT</td>\n",
       "      <td>0.0</td>\n",
       "      <td>EDUCATION</td>\n",
       "      <td>35000</td>\n",
       "      <td>7.90</td>\n",
       "      <td>0</td>\n",
       "      <td>0.29</td>\n",
       "      <td>N</td>\n",
       "      <td>4</td>\n",
       "    </tr>\n",
       "    <tr>\n",
       "      <th>17</th>\n",
       "      <td>17</td>\n",
       "      <td>23.0</td>\n",
       "      <td>92111</td>\n",
       "      <td>RENT</td>\n",
       "      <td>7.0</td>\n",
       "      <td>MEDICAL</td>\n",
       "      <td>35000</td>\n",
       "      <td>20.25</td>\n",
       "      <td>1</td>\n",
       "      <td>0.32</td>\n",
       "      <td>N</td>\n",
       "      <td>4</td>\n",
       "    </tr>\n",
       "    <tr>\n",
       "      <th>18</th>\n",
       "      <td>18</td>\n",
       "      <td>23.0</td>\n",
       "      <td>113000</td>\n",
       "      <td>RENT</td>\n",
       "      <td>8.0</td>\n",
       "      <td>DEBTCONSOLIDATION</td>\n",
       "      <td>35000</td>\n",
       "      <td>18.25</td>\n",
       "      <td>1</td>\n",
       "      <td>0.31</td>\n",
       "      <td>N</td>\n",
       "      <td>4</td>\n",
       "    </tr>\n",
       "    <tr>\n",
       "      <th>19</th>\n",
       "      <td>19</td>\n",
       "      <td>24.0</td>\n",
       "      <td>10800</td>\n",
       "      <td>MORTGAGE</td>\n",
       "      <td>8.0</td>\n",
       "      <td>EDUCATION</td>\n",
       "      <td>1750</td>\n",
       "      <td>10.99</td>\n",
       "      <td>1</td>\n",
       "      <td>0.16</td>\n",
       "      <td>N</td>\n",
       "      <td>2</td>\n",
       "    </tr>\n",
       "  </tbody>\n",
       "</table>\n",
       "</div>"
      ],
      "text/plain": [
       "    Id   Age  Income      Home  Emp_length             Intent  Amount   Rate  \\\n",
       "0    0  22.0   59000      RENT       123.0           PERSONAL   35000  16.02   \n",
       "1    1  21.0    9600       OWN         5.0          EDUCATION    1000  11.14   \n",
       "2    2  25.0    9600  MORTGAGE         1.0            MEDICAL    5500  12.87   \n",
       "3    3  23.0   65500      RENT         4.0            MEDICAL   35000  15.23   \n",
       "4    4  24.0   54400      RENT         8.0            MEDICAL   35000  14.27   \n",
       "5    5  21.0    9900       OWN         2.0            VENTURE    2500   7.14   \n",
       "6    6  26.0   77100     RENET         8.0          EDUCATION   35000  12.42   \n",
       "7    7  24.0   78956      RENT         5.0            MEDICAL   35000  11.11   \n",
       "8    8  24.0   83000      RENT         8.0           PERSONAL   35000   8.90   \n",
       "9    9  21.0   10000       OWN         6.0            VENTURE    1600  14.74   \n",
       "10  10  22.0   85000      RENT         6.0            VENTURE   35000  10.37   \n",
       "11  11  21.0   10000       OWN         2.0    HOMEIMPROVEMENT    4500   8.63   \n",
       "12  12  23.0   95000      RENT         2.0            VENTURE   35000   7.90   \n",
       "13  13  26.0  108160      RENT         4.0          EDUCATION   35000  18.39   \n",
       "14  14  23.0  115000      RENT         2.0          EDUCATION   35000   7.90   \n",
       "15  15  23.0  500000  MORTGAGE         7.0  DEBTCONSOLIDATION   30000  10.65   \n",
       "16  16  23.0  120000      RENT         0.0          EDUCATION   35000   7.90   \n",
       "17  17  23.0   92111      RENT         7.0            MEDICAL   35000  20.25   \n",
       "18  18  23.0  113000      RENT         8.0  DEBTCONSOLIDATION   35000  18.25   \n",
       "19  19  24.0   10800  MORTGAGE         8.0          EDUCATION    1750  10.99   \n",
       "\n",
       "    Status  Percent_income Default  Cred_length  \n",
       "0        1            0.59       Y            3  \n",
       "1        0            0.10       N            2  \n",
       "2        1            0.57       N            3  \n",
       "3        1            0.53       N            2  \n",
       "4        1            0.55       Y            4  \n",
       "5        1            0.25       N            2  \n",
       "6        1            0.45       N            3  \n",
       "7        1            0.44       N            4  \n",
       "8        1            0.42       N            2  \n",
       "9        1            0.16       N            3  \n",
       "10       1            0.41       N            4  \n",
       "11       1            0.45       N            2  \n",
       "12       1            0.37       N            2  \n",
       "13       1            0.32       N            4  \n",
       "14       0            0.30       N            4  \n",
       "15       0            0.06       N            3  \n",
       "16       0            0.29       N            4  \n",
       "17       1            0.32       N            4  \n",
       "18       1            0.31       N            4  \n",
       "19       1            0.16       N            2  "
      ]
     },
     "execution_count": 42,
     "metadata": {},
     "output_type": "execute_result"
    }
   ],
   "source": [
    "df.head(20)"
   ]
  },
  {
   "cell_type": "markdown",
   "metadata": {
    "id": "Ze-lXxLMhpWv"
   },
   "source": [
    "**2.2 Оценка данных с помощью метода ```info```**."
   ]
  },
  {
   "cell_type": "code",
   "execution_count": 43,
   "metadata": {
    "id": "bjhngmaLiGM-"
   },
   "outputs": [
    {
     "name": "stdout",
     "output_type": "stream",
     "text": [
      "<class 'pandas.core.frame.DataFrame'>\n",
      "RangeIndex: 652 entries, 0 to 651\n",
      "Data columns (total 12 columns):\n",
      " #   Column          Non-Null Count  Dtype  \n",
      "---  ------          --------------  -----  \n",
      " 0   Id              652 non-null    int64  \n",
      " 1   Age             652 non-null    float64\n",
      " 2   Income          652 non-null    int64  \n",
      " 3   Home            652 non-null    object \n",
      " 4   Emp_length      643 non-null    float64\n",
      " 5   Intent          652 non-null    object \n",
      " 6   Amount          652 non-null    int64  \n",
      " 7   Rate            586 non-null    float64\n",
      " 8   Status          652 non-null    int64  \n",
      " 9   Percent_income  652 non-null    float64\n",
      " 10  Default         652 non-null    object \n",
      " 11  Cred_length     652 non-null    int64  \n",
      "dtypes: float64(4), int64(5), object(3)\n",
      "memory usage: 61.3+ KB\n"
     ]
    }
   ],
   "source": [
    "df.info()"
   ]
  },
  {
   "cell_type": "markdown",
   "metadata": {},
   "source": [
    "---\n",
    "\n",
    "**Пояснение:**\\\n",
    "В наборе данных 652 строки и 12 столбцов;\\\n",
    "Есть числовые и категориальные признаки;\\\n",
    "Пропуски обнаружены в столбцах ```Emp_length``` (9 штук) и ```Rate``` (66 штук);\\\n",
    "Эти пропуски нужно будет обработать (например, заполнить медианой).\n",
    "\n",
    "---"
   ]
  },
  {
   "cell_type": "markdown",
   "metadata": {
    "id": "06PDq9DAiMAY"
   },
   "source": [
    "**2.3 Оценка данных с помощью метода ```describe```.**"
   ]
  },
  {
   "cell_type": "code",
   "execution_count": 44,
   "metadata": {
    "id": "cTVFwzO1jQfN"
   },
   "outputs": [
    {
     "data": {
      "text/html": [
       "<div>\n",
       "<style scoped>\n",
       "    .dataframe tbody tr th:only-of-type {\n",
       "        vertical-align: middle;\n",
       "    }\n",
       "\n",
       "    .dataframe tbody tr th {\n",
       "        vertical-align: top;\n",
       "    }\n",
       "\n",
       "    .dataframe thead th {\n",
       "        text-align: right;\n",
       "    }\n",
       "</style>\n",
       "<table border=\"1\" class=\"dataframe\">\n",
       "  <thead>\n",
       "    <tr style=\"text-align: right;\">\n",
       "      <th></th>\n",
       "      <th>Id</th>\n",
       "      <th>Age</th>\n",
       "      <th>Income</th>\n",
       "      <th>Emp_length</th>\n",
       "      <th>Amount</th>\n",
       "      <th>Rate</th>\n",
       "      <th>Status</th>\n",
       "      <th>Percent_income</th>\n",
       "      <th>Cred_length</th>\n",
       "    </tr>\n",
       "  </thead>\n",
       "  <tbody>\n",
       "    <tr>\n",
       "      <th>count</th>\n",
       "      <td>652.000000</td>\n",
       "      <td>652.000000</td>\n",
       "      <td>652.000000</td>\n",
       "      <td>643.000000</td>\n",
       "      <td>652.000000</td>\n",
       "      <td>586.000000</td>\n",
       "      <td>652.000000</td>\n",
       "      <td>652.000000</td>\n",
       "      <td>652.000000</td>\n",
       "    </tr>\n",
       "    <tr>\n",
       "      <th>mean</th>\n",
       "      <td>325.495399</td>\n",
       "      <td>24.285276</td>\n",
       "      <td>90008.855828</td>\n",
       "      <td>4.601866</td>\n",
       "      <td>18800.996933</td>\n",
       "      <td>12.289471</td>\n",
       "      <td>0.601227</td>\n",
       "      <td>0.279831</td>\n",
       "      <td>3.012270</td>\n",
       "    </tr>\n",
       "    <tr>\n",
       "      <th>std</th>\n",
       "      <td>188.352535</td>\n",
       "      <td>7.841061</td>\n",
       "      <td>69530.312525</td>\n",
       "      <td>7.281616</td>\n",
       "      <td>9152.896250</td>\n",
       "      <td>3.272772</td>\n",
       "      <td>0.490022</td>\n",
       "      <td>0.150231</td>\n",
       "      <td>0.808843</td>\n",
       "    </tr>\n",
       "    <tr>\n",
       "      <th>min</th>\n",
       "      <td>0.000000</td>\n",
       "      <td>21.000000</td>\n",
       "      <td>9600.000000</td>\n",
       "      <td>0.000000</td>\n",
       "      <td>1000.000000</td>\n",
       "      <td>5.420000</td>\n",
       "      <td>0.000000</td>\n",
       "      <td>0.010000</td>\n",
       "      <td>2.000000</td>\n",
       "    </tr>\n",
       "    <tr>\n",
       "      <th>25%</th>\n",
       "      <td>162.750000</td>\n",
       "      <td>23.000000</td>\n",
       "      <td>44000.000000</td>\n",
       "      <td>2.000000</td>\n",
       "      <td>10000.000000</td>\n",
       "      <td>10.250000</td>\n",
       "      <td>0.000000</td>\n",
       "      <td>0.160000</td>\n",
       "      <td>2.000000</td>\n",
       "    </tr>\n",
       "    <tr>\n",
       "      <th>50%</th>\n",
       "      <td>325.500000</td>\n",
       "      <td>24.000000</td>\n",
       "      <td>69998.000000</td>\n",
       "      <td>4.000000</td>\n",
       "      <td>21850.000000</td>\n",
       "      <td>12.180000</td>\n",
       "      <td>1.000000</td>\n",
       "      <td>0.280000</td>\n",
       "      <td>3.000000</td>\n",
       "    </tr>\n",
       "    <tr>\n",
       "      <th>75%</th>\n",
       "      <td>488.250000</td>\n",
       "      <td>25.000000</td>\n",
       "      <td>128499.000000</td>\n",
       "      <td>7.000000</td>\n",
       "      <td>25000.000000</td>\n",
       "      <td>14.720000</td>\n",
       "      <td>1.000000</td>\n",
       "      <td>0.380000</td>\n",
       "      <td>4.000000</td>\n",
       "    </tr>\n",
       "    <tr>\n",
       "      <th>max</th>\n",
       "      <td>649.000000</td>\n",
       "      <td>144.000000</td>\n",
       "      <td>500000.000000</td>\n",
       "      <td>123.000000</td>\n",
       "      <td>35000.000000</td>\n",
       "      <td>21.210000</td>\n",
       "      <td>1.000000</td>\n",
       "      <td>0.830000</td>\n",
       "      <td>4.000000</td>\n",
       "    </tr>\n",
       "  </tbody>\n",
       "</table>\n",
       "</div>"
      ],
      "text/plain": [
       "               Id         Age         Income  Emp_length        Amount  \\\n",
       "count  652.000000  652.000000     652.000000  643.000000    652.000000   \n",
       "mean   325.495399   24.285276   90008.855828    4.601866  18800.996933   \n",
       "std    188.352535    7.841061   69530.312525    7.281616   9152.896250   \n",
       "min      0.000000   21.000000    9600.000000    0.000000   1000.000000   \n",
       "25%    162.750000   23.000000   44000.000000    2.000000  10000.000000   \n",
       "50%    325.500000   24.000000   69998.000000    4.000000  21850.000000   \n",
       "75%    488.250000   25.000000  128499.000000    7.000000  25000.000000   \n",
       "max    649.000000  144.000000  500000.000000  123.000000  35000.000000   \n",
       "\n",
       "             Rate      Status  Percent_income  Cred_length  \n",
       "count  586.000000  652.000000      652.000000   652.000000  \n",
       "mean    12.289471    0.601227        0.279831     3.012270  \n",
       "std      3.272772    0.490022        0.150231     0.808843  \n",
       "min      5.420000    0.000000        0.010000     2.000000  \n",
       "25%     10.250000    0.000000        0.160000     2.000000  \n",
       "50%     12.180000    1.000000        0.280000     3.000000  \n",
       "75%     14.720000    1.000000        0.380000     4.000000  \n",
       "max     21.210000    1.000000        0.830000     4.000000  "
      ]
     },
     "execution_count": 44,
     "metadata": {},
     "output_type": "execute_result"
    }
   ],
   "source": [
    "df.describe()"
   ]
  },
  {
   "cell_type": "markdown",
   "metadata": {
    "id": "oOZUrZGuiGqc"
   },
   "source": [
    "\n",
    "---\n",
    "\n",
    "**Пояснение:**\\\n",
    "Была произведена оценка числовых столбцов с помощью ```describe```\\\n",
    "В датасете 652 записей;\\\n",
    "Возраст в среднем 24 года, но есть аномалия: минимальный 21, максимальный 144;\\\n",
    "Доход сильно варьируется: от 9 600 до 500 000, средний около 90 000;\\\n",
    "Стаж работы (```emp_length```): медиана 4 года, но есть подозрительные значения (123 года);\\\n",
    "Сумма кредита (```amount```): от 1 000 до 35 000, медиана ~21 850;\\\n",
    "Ставка (```rate```): от 5.42% до 21.21%, среднее ~12.3%;\\\n",
    "Доля кредита от дохода (```percent_income```): в среднем 28%;\\\n",
    "Длина кредитной истории (```cred_length```): от 2 до 4 лет, медиана 3 года.\n",
    "\n",
    " ---\n"
   ]
  },
  {
   "cell_type": "markdown",
   "metadata": {
    "id": "JTbo0IGDiHxn"
   },
   "source": [
    "**2.4 Оценка названий столбцов**"
   ]
  },
  {
   "cell_type": "code",
   "execution_count": 45,
   "metadata": {
    "id": "9NEyi2Odik3e"
   },
   "outputs": [
    {
     "data": {
      "text/plain": [
       "Index(['Id', 'Age', 'Income', 'Home', 'Emp_length', 'Intent', 'Amount', 'Rate',\n",
       "       'Status', 'Percent_income', 'Default', 'Cred_length'],\n",
       "      dtype='object')"
      ]
     },
     "execution_count": 45,
     "metadata": {},
     "output_type": "execute_result"
    }
   ],
   "source": [
    "df.columns"
   ]
  },
  {
   "cell_type": "code",
   "execution_count": 46,
   "metadata": {
    "id": "QSJBLl4qjjP8"
   },
   "outputs": [
    {
     "data": {
      "text/plain": [
       "Index(['id', 'age', 'income', 'home', 'emp_length', 'intent', 'amount', 'rate',\n",
       "       'status', 'percent_income', 'default', 'cred_length'],\n",
       "      dtype='object')"
      ]
     },
     "execution_count": 46,
     "metadata": {},
     "output_type": "execute_result"
    }
   ],
   "source": [
    "df.columns = df.columns.str.lower()\n",
    "df.columns"
   ]
  },
  {
   "cell_type": "markdown",
   "metadata": {},
   "source": [
    "---\n",
    "\n",
    "**Пояснение:**\\\n",
    "Были выведеныф на экран названия столбцов. Не было обнаружено проблем.\\\n",
    "Названия столбцов были приведены к нижнему регистру для единообразия и удобства работы в коде,\\\n",
    "чтобы избежать ошибок при обращении к столбцам\n",
    "\n",
    " ---\n"
   ]
  },
  {
   "cell_type": "markdown",
   "metadata": {
    "id": "V0tLQcyrjnA_"
   },
   "source": [
    "### 3. Проверка пропусков"
   ]
  },
  {
   "cell_type": "code",
   "execution_count": 47,
   "metadata": {
    "id": "xuTz-Avjj9AW"
   },
   "outputs": [
    {
     "data": {
      "text/plain": [
       "id                0\n",
       "age               0\n",
       "income            0\n",
       "home              0\n",
       "emp_length        0\n",
       "intent            0\n",
       "amount            0\n",
       "rate              0\n",
       "status            0\n",
       "percent_income    0\n",
       "default           0\n",
       "cred_length       0\n",
       "dtype: int64"
      ]
     },
     "execution_count": 47,
     "metadata": {},
     "output_type": "execute_result"
    }
   ],
   "source": [
    "df.isna().sum()\n",
    "df['emp_length'] = df['emp_length'].fillna(df['emp_length'].median())\n",
    "df['rate'] = df['rate'].fillna(df['rate'].median())\n",
    "df.isna().sum()"
   ]
  },
  {
   "cell_type": "markdown",
   "metadata": {
    "id": "efZ7vgSVkPQH"
   },
   "source": [
    "\n",
    "---\n",
    "\n",
    "**Пояснение:**\\\n",
    "Если удалить строки:\\\n",
    "Удалим 9 строк с ```emp_length``` - это 1,4% данных (не страшно).\\\n",
    "Удалим 66 строк с ```rate``` - это уже 10% данных (довольно много).\\\n",
    "Вывод: потеря в сумме 75 строк (11–12% данных).\\\n",
    "Т. е. уменьшается размер выборки, информация теряется.\n",
    "\n",
    "Если заменить медианой\\\n",
    "```emp_length```: заменить медианой (например, 4 года) — получится реалистично.\\\n",
    "```rate```: заменить медианой (примерно 12.2%) — логично, потому что медиана отражает «типичное значение» и не портит статистику.\\\n",
    "Вывод: сохранение всех 652 строк, соответсвенно, анализ более устойчивый.\n",
    "\n",
    "Пропуски в колонках ```emp_length``` (9 значений) и ```rate``` (66 значений) были заменены на медиану. Это позволило сохранить все строки датасета и использовать типичные значения вместо удаления данных.\n",
    "\n",
    " ---"
   ]
  },
  {
   "cell_type": "markdown",
   "metadata": {
    "id": "kkyrXXHikEXk"
   },
   "source": [
    "### 4. Проверка дубликатов"
   ]
  },
  {
   "cell_type": "markdown",
   "metadata": {
    "id": "ImqHvr3okIQ6"
   },
   "source": [
    "#### Проверка явных дубликатов"
   ]
  },
  {
   "cell_type": "code",
   "execution_count": 48,
   "metadata": {
    "id": "qu1oh-e5lDZ1"
   },
   "outputs": [
    {
     "data": {
      "text/html": [
       "<div>\n",
       "<style scoped>\n",
       "    .dataframe tbody tr th:only-of-type {\n",
       "        vertical-align: middle;\n",
       "    }\n",
       "\n",
       "    .dataframe tbody tr th {\n",
       "        vertical-align: top;\n",
       "    }\n",
       "\n",
       "    .dataframe thead th {\n",
       "        text-align: right;\n",
       "    }\n",
       "</style>\n",
       "<table border=\"1\" class=\"dataframe\">\n",
       "  <thead>\n",
       "    <tr style=\"text-align: right;\">\n",
       "      <th></th>\n",
       "      <th>id</th>\n",
       "      <th>age</th>\n",
       "      <th>income</th>\n",
       "      <th>home</th>\n",
       "      <th>emp_length</th>\n",
       "      <th>intent</th>\n",
       "      <th>amount</th>\n",
       "      <th>rate</th>\n",
       "      <th>status</th>\n",
       "      <th>percent_income</th>\n",
       "      <th>default</th>\n",
       "      <th>cred_length</th>\n",
       "    </tr>\n",
       "  </thead>\n",
       "  <tbody>\n",
       "    <tr>\n",
       "      <th>650</th>\n",
       "      <td>649</td>\n",
       "      <td>23.0</td>\n",
       "      <td>58800</td>\n",
       "      <td>RENT</td>\n",
       "      <td>7.0</td>\n",
       "      <td>DEBTCONSOLIDATION</td>\n",
       "      <td>20000</td>\n",
       "      <td>7.66</td>\n",
       "      <td>1</td>\n",
       "      <td>0.34</td>\n",
       "      <td>N</td>\n",
       "      <td>3</td>\n",
       "    </tr>\n",
       "    <tr>\n",
       "      <th>651</th>\n",
       "      <td>649</td>\n",
       "      <td>23.0</td>\n",
       "      <td>58800</td>\n",
       "      <td>RENT</td>\n",
       "      <td>7.0</td>\n",
       "      <td>DEBTCONSOLIDATION</td>\n",
       "      <td>20000</td>\n",
       "      <td>7.66</td>\n",
       "      <td>1</td>\n",
       "      <td>0.34</td>\n",
       "      <td>N</td>\n",
       "      <td>3</td>\n",
       "    </tr>\n",
       "  </tbody>\n",
       "</table>\n",
       "</div>"
      ],
      "text/plain": [
       "      id   age  income  home  emp_length             intent  amount  rate  \\\n",
       "650  649  23.0   58800  RENT         7.0  DEBTCONSOLIDATION   20000  7.66   \n",
       "651  649  23.0   58800  RENT         7.0  DEBTCONSOLIDATION   20000  7.66   \n",
       "\n",
       "     status  percent_income default  cred_length  \n",
       "650       1            0.34       N            3  \n",
       "651       1            0.34       N            3  "
      ]
     },
     "execution_count": 48,
     "metadata": {},
     "output_type": "execute_result"
    }
   ],
   "source": [
    "df[df.duplicated()]"
   ]
  },
  {
   "cell_type": "code",
   "execution_count": 49,
   "metadata": {},
   "outputs": [
    {
     "name": "stdout",
     "output_type": "stream",
     "text": [
      "2\n"
     ]
    }
   ],
   "source": [
    "print(df.duplicated().sum())"
   ]
  },
  {
   "cell_type": "code",
   "execution_count": 50,
   "metadata": {
    "id": "ntArgvChkK26"
   },
   "outputs": [
    {
     "name": "stdout",
     "output_type": "stream",
     "text": [
      "0\n"
     ]
    }
   ],
   "source": [
    "df = df.drop_duplicates().reset_index(drop = True)\n",
    "print(df.duplicated().sum())"
   ]
  },
  {
   "cell_type": "markdown",
   "metadata": {},
   "source": [
    "---\n",
    "\n",
    "**Пояснение:**\\\n",
    "```df.duplicated()```\\\n",
    "Эта команда проверяет, есть ли дубликаты строк в таблице.\n",
    "Возвращает колонку из True и False:\n",
    "- True - строка является дубликатом (повторяется),\n",
    "- False - уникальная строка.\n",
    "\n",
    "```print(df.duplicated().sum())```\\\n",
    "Команда выводит на экран количество строк-дубликатов\n",
    "\n",
    "```df = df.drop_duplicates().reset_index(drop = True)```\\\n",
    "Команда удаляет дубликаты и обновляет индексы строк (чтобы потом при обращении к строкам не было «дырок» в номерах).\n",
    "\n",
    "---"
   ]
  },
  {
   "cell_type": "markdown",
   "metadata": {
    "id": "VeHTMcOmkLSw"
   },
   "source": [
    "#### Проверка неявных дубликатов"
   ]
  },
  {
   "cell_type": "code",
   "execution_count": 51,
   "metadata": {
    "id": "89tMFEQ2k_M7"
   },
   "outputs": [
    {
     "name": "stdout",
     "output_type": "stream",
     "text": [
      "age \n",
      " [ 22.  21.  25.  23.  24.  26. 144. 123.]\n",
      "home \n",
      " ['RENT' 'OWN' 'MORTGAGE' 'RENET' 'OTHER']\n",
      "emp_length \n",
      " [123.   5.   1.   4.   8.   2.   6.   7.   0.   9.   3.  10.  11.]\n",
      "intent \n",
      " ['PERSONAL' 'EDUCATION' 'MEDICAL' 'VENTURE' 'HOMEIMPROVEMENT'\n",
      " 'DEBTCONSOLIDATION']\n",
      "status \n",
      " [1 0]\n",
      "default \n",
      " ['Y' 'N' 'No']\n",
      "cred_length \n",
      " [3 2 4]\n"
     ]
    }
   ],
   "source": [
    "unique_c = ['age', 'home', 'emp_length', 'intent', 'status', 'default', 'cred_length']\n",
    "for i in unique_c:\n",
    "  print(i,'\\n', df[i].unique())"
   ]
  },
  {
   "cell_type": "code",
   "execution_count": 52,
   "metadata": {},
   "outputs": [
    {
     "name": "stdout",
     "output_type": "stream",
     "text": [
      "age\n",
      "24.0     137\n",
      "23.0     130\n",
      "25.0     130\n",
      "22.0     109\n",
      "26.0      98\n",
      "21.0      43\n",
      "144.0      2\n",
      "123.0      1\n",
      "Name: count, dtype: int64\n",
      "home\n",
      "RENT        413\n",
      "MORTGAGE    136\n",
      "OWN          98\n",
      "OTHER         2\n",
      "RENET         1\n",
      "Name: count, dtype: int64\n",
      "emp_length\n",
      "0.0      91\n",
      "2.0      76\n",
      "3.0      70\n",
      "5.0      64\n",
      "6.0      61\n",
      "1.0      60\n",
      "7.0      56\n",
      "4.0      55\n",
      "8.0      46\n",
      "9.0      45\n",
      "10.0     22\n",
      "123.0     2\n",
      "11.0      2\n",
      "Name: count, dtype: int64\n",
      "intent\n",
      "EDUCATION            145\n",
      "VENTURE              117\n",
      "PERSONAL             111\n",
      "MEDICAL              107\n",
      "DEBTCONSOLIDATION    102\n",
      "HOMEIMPROVEMENT       68\n",
      "Name: count, dtype: int64\n",
      "status\n",
      "1    390\n",
      "0    260\n",
      "Name: count, dtype: int64\n",
      "default\n",
      "N     497\n",
      "Y     150\n",
      "No      3\n",
      "Name: count, dtype: int64\n",
      "cred_length\n",
      "3    224\n",
      "4    217\n",
      "2    209\n",
      "Name: count, dtype: int64\n"
     ]
    }
   ],
   "source": [
    "for i in unique_c:\n",
    "  print(df[i].value_counts())"
   ]
  },
  {
   "cell_type": "code",
   "execution_count": 53,
   "metadata": {},
   "outputs": [
    {
     "name": "stdout",
     "output_type": "stream",
     "text": [
      "[22. 21. 25. 23. 24. 26.]\n",
      "['RENT' 'OWN' 'MORTGAGE' 'OTHER']\n",
      "[ 4.  5.  1.  8.  2.  6.  7.  0.  9.  3. 10. 11.]\n",
      "['Y' 'N']\n"
     ]
    }
   ],
   "source": [
    "# исправление возраста (замену на медиану возрастов)\n",
    "median_age = df.loc[df['age'] < 100, 'age'].median()  # считаем медиану по \"нормальным\" возрастам\n",
    "df.loc[df['age'] > 100, 'age'] = median_age\n",
    "# исправление типа жильяя\n",
    "df['home'] = df['home'].replace('RENET', 'RENT')\n",
    "# исправление аномалии стажа работы (замена на медиану)\n",
    "median_emp = df.loc[df['emp_length'] < 50, 'emp_length'].median()  # считаем медиану по адекватным значениям\n",
    "df.loc[df['emp_length'] > 50, 'emp_length'] = median_emp\n",
    "# округление дробного значения стажа возраста\n",
    "df['emp_length'] = df['emp_length'].round()\n",
    "# исправление категории дефолта\n",
    "df['default'] = df['default'].replace('No', 'N')\n",
    "# проверка результата \n",
    "print(df['age'].unique())\n",
    "print(df['home'].unique())\n",
    "print(df['emp_length'].unique())\n",
    "print(df['default'].unique())"
   ]
  },
  {
   "cell_type": "markdown",
   "metadata": {
    "id": "GMcnDpOmlKhU"
   },
   "source": [
    "---\n",
    "\n",
    "**Пояснение:**\\\n",
    "В данных обнаружены ошибки и неявные дубликаты:\\\n",
    "```age``` - нереалистичные значения (123, 144);\\\n",
    "```home``` - опечатка \"RENET\";\\\n",
    "```emp_length``` - ошибка (123 года стажа) и дробное значение 4.6;\\\n",
    "```default``` - смешение категорий (No и N);\\\n",
    "Эти проблемы нужно исправить на этапе предобработки, чтобы анализ был корректным.\n",
    "\n",
    "Все аномалии и опечатки исправлены.\\\n",
    "Данные приведены к корректному виду, теперь с ними можно уверенно работать дальше: строить группировки, сводные таблицы и анализировать.\n",
    "\n",
    "\n",
    " ---"
   ]
  },
  {
   "cell_type": "markdown",
   "metadata": {
    "id": "md9GhfYMlbi7"
   },
   "source": [
    "### 5. Провека типов данных"
   ]
  },
  {
   "cell_type": "code",
   "execution_count": 54,
   "metadata": {
    "id": "WXhXgu29lop3"
   },
   "outputs": [
    {
     "name": "stdout",
     "output_type": "stream",
     "text": [
      "id                   int64\n",
      "age                  int64\n",
      "income               int64\n",
      "home              category\n",
      "emp_length           int64\n",
      "intent            category\n",
      "amount               int64\n",
      "rate               float64\n",
      "status            category\n",
      "percent_income     float64\n",
      "default           category\n",
      "cred_length          int64\n",
      "dtype: object\n"
     ]
    }
   ],
   "source": [
    "# Проверьте типы данных, при необходимости измените типы данных, чтобы они соответствовали действительности.\n",
    "df.dtypes\n",
    "\n",
    "# возраст и стаж работы должны быть целыми числами\n",
    "df['age'] = df['age'].astype(int)\n",
    "df['emp_length'] = df['emp_length'].astype(int)\n",
    "\n",
    "# категориальные переменные\n",
    "df['home'] = df['home'].astype('category')\n",
    "df['intent'] = df['intent'].astype('category')\n",
    "df['default'] = df['default'].astype('category')\n",
    "df['status'] = df['status'].astype('category')\n",
    "\n",
    "print(df.dtypes)"
   ]
  },
  {
   "cell_type": "markdown",
   "metadata": {
    "id": "DPDBNN4dlx7W"
   },
   "source": [
    "---\n",
    "\n",
    "**Пояснение:**\\\n",
    "```id``` - ```int64```\\\n",
    "Идентификатор записи: тип целое число ```int64``` - верно.\n",
    "\n",
    "```age``` - ```float64```\\\n",
    "Возраст должен быть целым числом, но хранится как ```float64```.\n",
    "\n",
    "```income``` - ```int64```\\\n",
    "Доход (число): тип целое число ```int64``` - верно.\n",
    "\n",
    "```home``` - ```object```\\\n",
    "Тип жилья это строка ```object```, но по смыслу это категориальная переменная, лучше ```category```.\n",
    "\n",
    "```emp_length``` - ```float64```\\\n",
    "Стаж работы должен быть целым числом, лучше перевести в ```int64```.\n",
    "\n",
    "```intent``` - ```object```\\\n",
    "Цель кредита сейчас строка, но это категориальная переменная - нужно перевести в ```category```.\n",
    "\n",
    "```amount``` - ```int64```\\\n",
    "Сумма кредита: тип целое число ```int64``` - верно.\n",
    "\n",
    "```rate``` - ```float64```\\\n",
    "Процентная ставка может иметь дробь - ```float64``` - верно.\n",
    "\n",
    "```status``` - ```int64```\\\n",
    "Статус (0 или 1) сейчас как число, но по смыслу это категориальный/булевый признак - нужно ```category```.\n",
    "\n",
    "```percent_income``` - ```float64```\\\n",
    "Доля дохода, идущая на кредит - дробное число - ```float64``` - верно.\n",
    "\n",
    "```default``` - ```object```\\\n",
    "Дефолт (Y, N) сейчас строка, но это категориальная переменная - нужно перевести в ```category```.\n",
    "\n",
    "```cred_length``` - ```int64```\\\n",
    "Длина кредитной истории (годы): целое число - тип ```int64``` - верно.\n",
    "\n",
    "Проверка показала, что некоторые признаки определены неверно:\\\n",
    "```age``` и ```emp_length``` были записаны как ```float64```, хотя должны быть целыми числами;\\\n",
    "```home```, ```intent```, ```default``` и ```status``` определены как ```object или ```int64```, хотя по смыслу являются категориальными.\\\n",
    "Типы данных были приведены в соответствие.\n",
    "\n",
    "\n",
    " ---"
   ]
  },
  {
   "cell_type": "markdown",
   "metadata": {
    "id": "lzr0SgqlnmHy"
   },
   "source": [
    "### 6. Группировка данных"
   ]
  },
  {
   "cell_type": "markdown",
   "metadata": {
    "id": "QG_dbwzfmZoS"
   },
   "source": [
    "#### Задание 1"
   ]
  },
  {
   "cell_type": "markdown",
   "metadata": {
    "id": "CyCKTB4DmciW"
   },
   "source": [
    "\n",
    "`Группировка - цель кредита (intent) по количеству статуса\n",
    "домовладения (home)`"
   ]
  },
  {
   "cell_type": "code",
   "execution_count": 55,
   "metadata": {
    "id": "tp8Bl1gumYlI"
   },
   "outputs": [
    {
     "name": "stdout",
     "output_type": "stream",
     "text": [
      "intent             home    \n",
      "DEBTCONSOLIDATION  MORTGAGE    21\n",
      "                   OWN          9\n",
      "                   RENT        72\n",
      "EDUCATION          MORTGAGE    34\n",
      "                   OTHER        1\n",
      "                   OWN         16\n",
      "                   RENT        94\n",
      "HOMEIMPROVEMENT    MORTGAGE    13\n",
      "                   OWN         16\n",
      "                   RENT        39\n",
      "MEDICAL            MORTGAGE    22\n",
      "                   OWN         15\n",
      "                   RENT        70\n",
      "PERSONAL           MORTGAGE    19\n",
      "                   OTHER        1\n",
      "                   OWN         22\n",
      "                   RENT        69\n",
      "VENTURE            MORTGAGE    27\n",
      "                   OWN         20\n",
      "                   RENT        70\n",
      "Name: id, dtype: int64\n"
     ]
    }
   ],
   "source": [
    "print(df.groupby(['intent', 'home'], observed=True)['id'].count())"
   ]
  },
  {
   "cell_type": "markdown",
   "metadata": {
    "id": "quMr70SmnMXS"
   },
   "source": [
    "---\n",
    "\n",
    "**Пояснение:**\\\n",
    "Была проведена группировка клиентов по цели кредита и типу жилья. Большинство клиентов, независимо от цели кредита,\\\n",
    "живут в аренде ```RENT```. На втором месте — клиенты с ипотекой ```MORTGAGE```.\\\n",
    "Владельцы собственного жилья ```OWN``` составляют меньшинство.\\\n",
    "Таким образом, арендаторы являются самой кредитозависимой группой\n",
    "\n",
    "Более наглядный результат был сделан через ```pivot_table```\n",
    "\n",
    " ---"
   ]
  },
  {
   "cell_type": "code",
   "execution_count": 56,
   "metadata": {},
   "outputs": [
    {
     "name": "stdout",
     "output_type": "stream",
     "text": [
      "home               MORTGAGE  OTHER   OWN  RENT\n",
      "intent                                        \n",
      "DEBTCONSOLIDATION      21.0    NaN   9.0  72.0\n",
      "EDUCATION              34.0    1.0  16.0  94.0\n",
      "HOMEIMPROVEMENT        13.0    NaN  16.0  39.0\n",
      "MEDICAL                22.0    NaN  15.0  70.0\n",
      "PERSONAL               19.0    1.0  22.0  69.0\n",
      "VENTURE                27.0    NaN  20.0  70.0\n"
     ]
    }
   ],
   "source": [
    "pivot = df.pivot_table(\n",
    "    # строки = цель кредита\n",
    "    index='intent',  \n",
    "    # столбцы = тип жилья\n",
    "    columns='home',\n",
    "    # что считаем (количество клиентов)\n",
    "    values='id',  \n",
    "    # функция подсчёта\n",
    "    aggfunc='count', \n",
    "    # показывать только реально существующие комбинации\n",
    "    observed=True       \n",
    ")\n",
    "\n",
    "print(pivot)"
   ]
  },
  {
   "cell_type": "markdown",
   "metadata": {
    "id": "j0isGCzEne7a"
   },
   "source": [
    "#### Задание 2"
   ]
  },
  {
   "cell_type": "markdown",
   "metadata": {
    "id": "kE2vLBWbne7a"
   },
   "source": [
    "`Группировка - статус домовладения (home) по количеству дефолтов (default). Создать датафрейм. Переименовать столбец с количеством в “сount”. Отсортировать по убыванию столбца “count”.`"
   ]
  },
  {
   "cell_type": "code",
   "execution_count": 57,
   "metadata": {
    "id": "ttn78Zaene7a"
   },
   "outputs": [
    {
     "name": "stdout",
     "output_type": "stream",
     "text": [
      "       home default  count\n",
      "5      RENT       N    308\n",
      "0  MORTGAGE       N    107\n",
      "6      RENT       Y    106\n",
      "3       OWN       N     85\n",
      "1  MORTGAGE       Y     29\n",
      "4       OWN       Y     13\n",
      "2     OTHER       Y      2\n"
     ]
    }
   ],
   "source": [
    "# Посчитать количество строк в каждой группе (группа = комбинация home + default)\n",
    "counts = df.groupby(['home', 'default'], observed = True).size()\n",
    "# Превратить результат в DataFrame\n",
    "df_group = counts.reset_index()\n",
    "# Переименовать колонку с количеством в \"count\"\n",
    "df_group.columns = ['home', 'default', 'count']\n",
    "# Отсортировать по убыванию столбца count\n",
    "df_group = df_group.sort_values(by='count', ascending=False)\n",
    "# Посмотреть результат\n",
    "print(df_group)"
   ]
  },
  {
   "cell_type": "markdown",
   "metadata": {
    "id": "NKLZ0m7Nne7b"
   },
   "source": [
    "---\n",
    "\n",
    "**Пояснение:**\\\n",
    "Анализ распределения клиентов по типу жилья и факту дефолта показал, что арендаторы ```RENT``` составляют основную долю заёмщиков - 414 человек,\\\n",
    "из них 106 допустили дефолт. Среди ипотечных заёмщиков ```MORTGAGE``` наблюдается 29 дефолтов из 136 клиентов.\\\n",
    "Владельцы собственного жилья ```OWN``` составляют меньшую долю выборки и демонстрируют наименьший уровень дефолтов — всего 13 случаев.\\\n",
    "Таким образом, арендаторы являются наиболее рискованной категорией клиентов, а владельцы жилья — наименее рискованной\n",
    "\n",
    " ---"
   ]
  },
  {
   "cell_type": "markdown",
   "metadata": {
    "id": "_3fHGp64nhUJ"
   },
   "source": [
    "#### Задание 3"
   ]
  },
  {
   "cell_type": "markdown",
   "metadata": {
    "id": "_Bc4ehyKnhUJ"
   },
   "source": [
    "`Сводная таблица (pivot_table) - средняя сумма кредита amount для каждой цели кредита. Отсортировать по убыванию. Округлить до трёх знаков.`"
   ]
  },
  {
   "cell_type": "code",
   "execution_count": 58,
   "metadata": {
    "id": "siDovPvQnhUJ"
   },
   "outputs": [
    {
     "name": "stdout",
     "output_type": "stream",
     "text": [
      "                      amount\n",
      "intent                      \n",
      "DEBTCONSOLIDATION  19578.186\n",
      "PERSONAL           19350.676\n",
      "EDUCATION          19159.483\n",
      "MEDICAL            18732.243\n",
      "HOMEIMPROVEMENT    17884.559\n",
      "VENTURE            17732.692\n"
     ]
    }
   ],
   "source": [
    "pivot_amount = df.pivot_table(\n",
    "    # строки = цель кредита\n",
    "    index='intent',       \n",
    "    # что считаем = сумма кредита\n",
    "    values='amount',\n",
    "    # функция = среднее значение\n",
    "    aggfunc='mean',\n",
    "    # показывать только то, что реально есть\n",
    "    observed=True\n",
    ")\n",
    "\n",
    "# округление до 3 знаков\n",
    "pivot_amount = pivot_amount.round(3)\n",
    "\n",
    "# сортировка по убыванию\n",
    "pivot_amount = pivot_amount.sort_values(by='amount', ascending=False)\n",
    "\n",
    "print(pivot_amount)\n"
   ]
  },
  {
   "cell_type": "markdown",
   "metadata": {
    "id": "wKFm0zDenhUK"
   },
   "source": [
    "---\n",
    "\n",
    "**Пояснение:**\\\n",
    "Наибольшие кредиты берутся для консолидации долгов, личных целей и образования (в среднем около 19 тыс.).\\\n",
    "На медицинские расходы и ремонт жилья кредиты несколько меньше (около 18 тыс.).\\\n",
    "Наименьшие кредиты наблюдаются в категории бизнес-целей ```VENTURE``` — около 17,7 тыс.\\\n",
    "Таким образом, консолидация долгов и личные кредиты являются наиболее «дорогими» целями для клиентов\n",
    "\n",
    " ---"
   ]
  },
  {
   "cell_type": "markdown",
   "metadata": {
    "id": "FOlw74xCniNo"
   },
   "source": [
    "#### Задание 4"
   ]
  },
  {
   "cell_type": "markdown",
   "metadata": {
    "id": "4tvYwT25niNq"
   },
   "source": [
    "`Сводная таблица (pivot_table) - средний доход income для каждого статуса домовладения (home) - строки и цели кредита - столбцы . Отсортировать по возрастанию home. Округлить до двух знаков.`"
   ]
  },
  {
   "cell_type": "code",
   "execution_count": 59,
   "metadata": {
    "id": "TfJ719g6niNq"
   },
   "outputs": [
    {
     "name": "stdout",
     "output_type": "stream",
     "text": [
      "intent    DEBTCONSOLIDATION  EDUCATION  HOMEIMPROVEMENT    MEDICAL   PERSONAL  \\\n",
      "home                                                                            \n",
      "MORTGAGE          128852.05  141393.41        144012.62  117061.55  102129.53   \n",
      "OTHER                   NaN   11389.00              NaN        NaN   19200.00   \n",
      "OWN                14334.67   63824.75         72565.44   39385.07   69722.55   \n",
      "RENT               85176.99   87780.28         83998.54   79992.63   86012.55   \n",
      "\n",
      "intent      VENTURE  \n",
      "home                 \n",
      "MORTGAGE  145813.37  \n",
      "OTHER           NaN  \n",
      "OWN        44181.00  \n",
      "RENT       88363.53  \n"
     ]
    }
   ],
   "source": [
    "pivot_income = df.pivot_table(\n",
    "    # строки = тип жилья\n",
    "    index='home', \n",
    "    # столбцы = цель кредита\n",
    "    columns='intent', \n",
    "    # значения = доход\n",
    "    values='income',\n",
    "    # функция = среднее\n",
    "    aggfunc='mean',  \n",
    "    # показывать только реальные комбинации\n",
    "    observed=True        \n",
    ")\n",
    "\n",
    "# округление до 2 знаков\n",
    "pivot_income = pivot_income.round(2)\n",
    "\n",
    "# сортировка по возрастанию home (по алфавиту)\n",
    "pivot_income = pivot_income.sort_index(ascending=True)\n",
    "\n",
    "print(pivot_income)\n"
   ]
  },
  {
   "cell_type": "markdown",
   "metadata": {
    "id": "tIkuqJKUniNs"
   },
   "source": [
    "---\n",
    "\n",
    "**Пояснение:**\\\n",
    "Ипотечники ```MORTGAGE``` - самые богатые клиенты (средние доходы свыше 100 000).\\\n",
    "Владельцы жилья ```OWN``` - доходы средние (около 40 000–70 000).\\\n",
    "Арендаторы ```RENT``` - доходы тоже приличные (80 000–88 000), но ниже, чем у ипотечников.\\\n",
    "```OTHER``` - слишком мало данных, выводы неинформативны.\n",
    "\n",
    "Сводная таблица показала, что наибольший средний доход наблюдается у клиентов с ипотекой ```MORTGAGE```,\\\n",
    "что подтверждает их более высокую платёжеспособность. Владельцы собственного жилья ```OWN``` имеют доходы ниже,\\\n",
    "а арендаторы ```RENT``` находятся на промежуточном уровне.\\\n",
    "Категория ```OTHER``` встречается крайне редко и статистически значимых выводов не даёт.\n",
    "\n",
    "\n",
    " ---"
   ]
  },
  {
   "cell_type": "markdown",
   "metadata": {
    "id": "TpnXb6gip3S8"
   },
   "source": [
    "### Вывод"
   ]
  },
  {
   "cell_type": "markdown",
   "metadata": {
    "id": "nqLa096jM1Z8"
   },
   "source": [
    "В ходе работы был проведён предварительный анализ набора данных ```credit_risk.csv```, содержащего информацию о 652 клиентах и их кредитах. Данные относятся к предметной области оценки кредитных рисков и включают показатели возраста, дохода, цели кредита, типа жилья, суммы займа, процентной ставки, длины кредитной истории и факта дефолта.\n",
    "На этапе предобработки были выявлены и устранены ошибки: некорректные значения возраста (123 и 144 года) и стажа работы (123 года, дробное значение 4.6), опечатка в типе жилья («RENET» заменена на «RENT»), а также неявный дубликат в колонке дефолта («No» объединено с «N»). Пропуски в числовых данных были заполнены медианными значениями. Типы данных приведены в соответствие: числовые признаки переведены в ```int64``` или ```float64```, категориальные признаки — в ```category```.\n",
    "\n",
    "Анализ группировок показал, что наибольшее количество клиентов берут кредиты, находясь в аренде жилья ```RENT```. Среди них же наблюдается и наибольшее количество дефолтов (106 случаев). В то же время владельцы собственного жилья ```OWN``` составляют меньшинство выборки и демонстрируют наименьший уровень дефолтов (13 случаев). Ипотечники ```MORTGAGE``` занимают промежуточное положение. Таким образом, арендаторы являются наиболее уязвимой категорией заёмщиков.\n",
    "\n",
    "Построенные сводные таблицы показали, что самые крупные кредиты берутся для консолидации долгов, личных целей и образования (в среднем около 19 тыс.), тогда как кредиты на бизнес и ремонт жилья меньше (около 17–18 тыс.). Анализ доходов клиентов продемонстрировал, что ипотечники обладают наибольшим средним доходом (свыше 100 тыс.), арендаторы занимают промежуточное положение (около 85–88 тыс.), а владельцы жилья имеют более низкий доход (40–70 тыс.).\n",
    "\n",
    "В целом проведённое исследование показало, что структура кредитного риска существенно зависит от типа жилья и цели кредита. Наиболее надёжными клиентами являются владельцы жилья, тогда как арендаторы чаще обращаются за кредитами и чаще уходят в дефолт.\n",
    "\n",
    "В лабораторной работе осуществлялась работа с библиотекой ```pandas```. Были изучены типы данных в библиотеке, индексация и др. На практике были произведены подготовка данных, устранение ошибок и дубликатов, обработка различных типов данных. Были изучены такие понятия как группировка и категоризация."
   ]
  },
  {
   "cell_type": "markdown",
   "metadata": {
    "id": "Sn3y7og_vjGG"
   },
   "source": [
    "### Дополнительное задание"
   ]
  },
  {
   "cell_type": "markdown",
   "metadata": {
    "id": "rR6WgHXYvlqD"
   },
   "source": [
    "**`Подробная формулировка задания`**"
   ]
  },
  {
   "cell_type": "code",
   "execution_count": 60,
   "metadata": {
    "id": "wG5TGQpevlBq"
   },
   "outputs": [],
   "source": [
    "# код выполнения задания"
   ]
  },
  {
   "cell_type": "markdown",
   "metadata": {
    "id": "y-qpTuhTvon3"
   },
   "source": [
    "***`Подробный вывод по заданию, описание полученных результатов`***"
   ]
  }
 ],
 "metadata": {
  "colab": {
   "provenance": []
  },
  "kernelspec": {
   "display_name": "Python 3 (ipykernel)",
   "language": "python",
   "name": "python3"
  },
  "language_info": {
   "codemirror_mode": {
    "name": "ipython",
    "version": 3
   },
   "file_extension": ".py",
   "mimetype": "text/x-python",
   "name": "python",
   "nbconvert_exporter": "python",
   "pygments_lexer": "ipython3",
   "version": "3.13.5"
  }
 },
 "nbformat": 4,
 "nbformat_minor": 4
}
